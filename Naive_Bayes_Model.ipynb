{
  "nbformat": 4,
  "nbformat_minor": 0,
  "metadata": {
    "colab": {
      "provenance": [],
      "authorship_tag": "ABX9TyNS1ydk3BZXw7KwGBUk83lR",
      "include_colab_link": true
    },
    "kernelspec": {
      "name": "python3",
      "display_name": "Python 3"
    },
    "language_info": {
      "name": "python"
    }
  },
  "cells": [
    {
      "cell_type": "markdown",
      "metadata": {
        "id": "view-in-github",
        "colab_type": "text"
      },
      "source": [
        "<a href=\"https://colab.research.google.com/github/FieryCatalyst/Data-Science-Analysis/blob/main/Naive_Bayes_Model.ipynb\" target=\"_parent\"><img src=\"https://colab.research.google.com/assets/colab-badge.svg\" alt=\"Open In Colab\"/></a>"
      ]
    },
    {
      "cell_type": "code",
      "execution_count": 1,
      "metadata": {
        "colab": {
          "base_uri": "https://localhost:8080/"
        },
        "id": "NiNl42JWtmw2",
        "outputId": "1c6dbffc-14fc-425e-a35c-46d7438c2b42"
      },
      "outputs": [
        {
          "output_type": "stream",
          "name": "stdout",
          "text": [
            "✅ Model Evaluation Results:\n",
            "\n",
            "Accuracy: 97.85 %\n",
            "\n",
            "Classification Report:\n",
            "               precision    recall  f1-score   support\n",
            "\n",
            "         Ham       0.98      1.00      0.99       966\n",
            "        Spam       1.00      0.84      0.91       149\n",
            "\n",
            "    accuracy                           0.98      1115\n",
            "   macro avg       0.99      0.92      0.95      1115\n",
            "weighted avg       0.98      0.98      0.98      1115\n",
            "\n",
            "\n",
            "📩 Sample Predictions:\n",
            " - Spam: Congratulations! You've won a $1000 Walmart gift card. Click here to claim your prize.\n",
            " - Ham: Hey, are we still meeting for coffee tomorrow?\n",
            " - Spam: Free entry in 2 a weekly competition to win FA Cup final tickets!\n"
          ]
        }
      ],
      "source": [
        "# Import necessary libraries\n",
        "import pandas as pd\n",
        "from sklearn.model_selection import train_test_split\n",
        "from sklearn.feature_extraction.text import TfidfVectorizer\n",
        "from sklearn.naive_bayes import MultinomialNB\n",
        "from sklearn.metrics import accuracy_score, classification_report\n",
        "\n",
        "# 1. Load data directly from UCI repository (no download required)\n",
        "url = \"https://raw.githubusercontent.com/justmarkham/pycon-2016-tutorial/master/data/sms.tsv\"\n",
        "df = pd.read_csv(url, sep='\\t', header=None, names=['label', 'message'])\n",
        "\n",
        "# 2. Encode labels (ham = 0, spam = 1)\n",
        "df['label'] = df['label'].map({'ham': 0, 'spam': 1})\n",
        "\n",
        "# 3. Split dataset into training and testing\n",
        "X_train, X_test, y_train, y_test = train_test_split(df['message'], df['label'], test_size=0.2, random_state=42)\n",
        "\n",
        "# 4. Convert text to TF-IDF features\n",
        "vectorizer = TfidfVectorizer(stop_words='english', max_df=0.7)\n",
        "X_train_vec = vectorizer.fit_transform(X_train)\n",
        "X_test_vec = vectorizer.transform(X_test)\n",
        "\n",
        "# 5. Train a Multinomial Naïve Bayes model\n",
        "nb_model = MultinomialNB()\n",
        "nb_model.fit(X_train_vec, y_train)\n",
        "\n",
        "# 6. Make predictions\n",
        "y_pred = nb_model.predict(X_test_vec)\n",
        "\n",
        "# 7. Evaluate model performance\n",
        "print(\"✅ Model Evaluation Results:\\n\")\n",
        "print(\"Accuracy:\", round(accuracy_score(y_test, y_pred) * 100, 2), \"%\")\n",
        "print(\"\\nClassification Report:\\n\", classification_report(y_test, y_pred, target_names=['Ham', 'Spam']))\n",
        "\n",
        "# 8. Try some custom predictions\n",
        "samples = [\n",
        "    \"Congratulations! You've won a $1000 Walmart gift card. Click here to claim your prize.\",\n",
        "    \"Hey, are we still meeting for coffee tomorrow?\",\n",
        "    \"Free entry in 2 a weekly competition to win FA Cup final tickets!\"\n",
        "]\n",
        "sample_vec = vectorizer.transform(samples)\n",
        "predictions = nb_model.predict(sample_vec)\n",
        "\n",
        "print(\"\\n📩 Sample Predictions:\")\n",
        "for msg, pred in zip(samples, predictions):\n",
        "    label = \"Spam\" if pred == 1 else \"Ham\"\n",
        "    print(f\" - {label}: {msg}\")\n"
      ]
    }
  ]
}